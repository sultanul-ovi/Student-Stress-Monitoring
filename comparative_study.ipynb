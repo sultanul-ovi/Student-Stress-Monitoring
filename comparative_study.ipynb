{
 "cells": [
  {
   "cell_type": "code",
   "execution_count": null,
   "id": "347c0267",
   "metadata": {},
   "outputs": [],
   "source": [
    "# Written by Ovi, 2025-07-30\n",
    "# Horizontal bar charts with fixed bar size across both datasets, consistent spacing.\n",
    "\n",
    "import matplotlib.pyplot as plt\n",
    "import numpy as np\n",
    "\n",
    "# Dataset 1\n",
    "dataset1_papers = [\n",
    "    (\"Ours (2025)\", 93.09),W\n",
    "    (\"Doma et al. (2025)\", 92.41),\n",
    "    (\"Filippis & Foysal (2024)\", 88.00),\n",
    "    (\"Amalia et al. (2025)\", 88.00)\n",
    "]\n",
    "\n",
    "# Dataset 2\n",
    "dataset2_papers = [\n",
    "    (\"Ours (2025)\", 99.53),\n",
    "    (\"Singh et al. [LR] (2024)\", 99.00),\n",
    "    (\"Singh et al. [SVM] (2024)\", 95.00)\n",
    "]\n",
    "\n",
    "def plot_horizontal_bar(labels, values, title, filename, color):\n",
    "    bar_height = 0.4\n",
    "    spacing = 0.2\n",
    "    total_height = (bar_height + spacing) * len(labels)\n",
    "\n",
    "    y_pos = np.arange(len(labels)) * (bar_height + spacing)\n",
    "\n",
    "    plt.figure(figsize=(6, total_height + 0.3))  # extra padding for title/text\n",
    "    plt.barh(y_pos, values, height=bar_height, color=color)\n",
    "    plt.yticks(y_pos, labels, fontweight='bold')\n",
    "    plt.gca().invert_yaxis()\n",
    "    plt.xlabel(\"Accuracy (%)\", fontsize=10, fontweight='bold')\n",
    "    plt.title(title, fontsize=11, fontweight='bold')\n",
    "    plt.grid(axis='x', linestyle='--', alpha=0.5)\n",
    "    plt.xticks([])  # Hide tick values\n",
    "    plt.xlim(0, 130)\n",
    "\n",
    "    for i, val in enumerate(values):\n",
    "        plt.text(val + 2.5, y_pos[i], f\"{val:.2f}%\", va='center', ha='left', fontsize=9, fontweight='bold')\n",
    "\n",
    "    plt.tight_layout()\n",
    "    plt.savefig(filename, dpi=300)\n",
    "    plt.close()\n",
    "\n",
    "# Plot both with fixed bar spacing\n",
    "labels1, values1 = zip(*dataset1_papers)\n",
    "plot_horizontal_bar(labels1, values1, \"Dataset 1: Student Stress Factors\", \"dataset1_accuracy_comparison.png\", color='skyblue')\n",
    "\n",
    "labels2, values2 = zip(*dataset2_papers)\n",
    "plot_horizontal_bar(labels2, values2, \"Dataset 2: Stress and Well-being\", \"dataset2_accuracy_comparison.png\", color='lightgreen')\n"
   ]
  }
 ],
 "metadata": {
  "kernelspec": {
   "display_name": "Python 3",
   "language": "python",
   "name": "python3"
  },
  "language_info": {
   "codemirror_mode": {
    "name": "ipython",
    "version": 3
   },
   "file_extension": ".py",
   "mimetype": "text/x-python",
   "name": "python",
   "nbconvert_exporter": "python",
   "pygments_lexer": "ipython3",
   "version": "3.11.0"
  }
 },
 "nbformat": 4,
 "nbformat_minor": 5
}
